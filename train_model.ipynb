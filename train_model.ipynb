{
 "cells": [
  {
   "cell_type": "code",
   "execution_count": 1,
   "metadata": {},
   "outputs": [],
   "source": [
    "from tensorflow.keras import preprocessing\n",
    "from tensorflow.keras.applications import mobilenet_v2\n",
    "from tensorflow import keras\n",
    "import csv\n",
    "import os"
   ]
  },
  {
   "cell_type": "code",
   "execution_count": 2,
   "metadata": {},
   "outputs": [],
   "source": [
    "labels = []\n",
    "\n",
    "for entry in os.scandir('data'):\n",
    "    labels.append(entry.name)"
   ]
  },
  {
   "cell_type": "code",
   "execution_count": 3,
   "metadata": {},
   "outputs": [],
   "source": [
    "# this are the folder names\n",
    "classes = labels\n",
    "# plug in the path to your data folder\n",
    "base_path = 'data/'"
   ]
  },
  {
   "cell_type": "code",
   "execution_count": 4,
   "metadata": {},
   "outputs": [],
   "source": [
    "# define an image data generator\n",
    "data_gen = preprocessing.image.ImageDataGenerator(\n",
    "    # define the preprocessing function that should be applied to all images\n",
    "    preprocessing_function=mobilenet_v2.preprocess_input,\n",
    "    # fill_mode='nearest',\n",
    "    # rotation_range=20,\n",
    "    # width_shift_range=0.2,\n",
    "    # height_shift_range=0.2,\n",
    "    # horizontal_flip=True, \n",
    "    # zoom_range=0.2,\n",
    "    # shear_range=0.2    \n",
    ")"
   ]
  },
  {
   "cell_type": "code",
   "execution_count": 5,
   "metadata": {},
   "outputs": [
    {
     "name": "stdout",
     "output_type": "stream",
     "text": [
      "Found 443 images belonging to 40 classes.\n"
     ]
    }
   ],
   "source": [
    "# a generator that returns batches of X and y arrays\n",
    "train_data_gen = data_gen.flow_from_directory(\n",
    "        directory=base_path,\n",
    "        class_mode=\"categorical\",\n",
    "        classes=classes,\n",
    "        batch_size=443,\n",
    "        target_size=(224, 224)\n",
    ")"
   ]
  },
  {
   "cell_type": "code",
   "execution_count": 6,
   "metadata": {},
   "outputs": [],
   "source": [
    "labels = train_data_gen.class_indices\n",
    "labels = dict((v,k) for k,v in labels.items())"
   ]
  },
  {
   "cell_type": "code",
   "execution_count": 9,
   "metadata": {},
   "outputs": [],
   "source": [
    "  \n",
    "with open('label_mapping.csv', 'w') as f:\n",
    "    for key in labels.keys():\n",
    "        f.write(\"%s, %s\\n\" % (key, labels[key]))"
   ]
  },
  {
   "cell_type": "code",
   "execution_count": 8,
   "metadata": {},
   "outputs": [
    {
     "data": {
      "text/plain": [
       "((443, 224, 224, 3), (443, 40))"
      ]
     },
     "execution_count": 8,
     "metadata": {},
     "output_type": "execute_result"
    }
   ],
   "source": [
    "# load in all images at once\n",
    "xtrain, ytrain = next(train_data_gen)\n",
    "xtrain.shape, ytrain.shape"
   ]
  },
  {
   "cell_type": "markdown",
   "metadata": {},
   "source": [
    "### Select the convolutional base and freeze the weights"
   ]
  },
  {
   "cell_type": "code",
   "execution_count": 36,
   "metadata": {},
   "outputs": [],
   "source": [
    "base_model = mobilenet_v2.MobileNetV2(\n",
    "    weights='imagenet', \n",
    "    alpha=0.35,         # specific parameter of this model, small alpha reduces the number of overall weights\n",
    "    pooling='avg',      # applies global average pooling to the output of the last conv layer (like a flattening)\n",
    "    include_top=False,  # we only want to have the base, not the final dense layers \n",
    "    input_shape=(224, 224, 3)\n",
    ")\n",
    "\n",
    "# freeze it!\n",
    "base_model.trainable = False"
   ]
  },
  {
   "cell_type": "markdown",
   "metadata": {},
   "source": [
    "### Add your own dense layers on top"
   ]
  },
  {
   "cell_type": "code",
   "execution_count": 190,
   "metadata": {},
   "outputs": [
    {
     "name": "stdout",
     "output_type": "stream",
     "text": [
      "Model: \"sequential_6\"\n",
      "_________________________________________________________________\n",
      "Layer (type)                 Output Shape              Param #   \n",
      "=================================================================\n",
      "mobilenetv2_0.35_224 (Functi (None, 1280)              410208    \n",
      "_________________________________________________________________\n",
      "dense_12 (Dense)             (None, 100)               128100    \n",
      "_________________________________________________________________\n",
      "dropout_6 (Dropout)          (None, 100)               0         \n",
      "_________________________________________________________________\n",
      "dense_13 (Dense)             (None, 40)                4040      \n",
      "=================================================================\n",
      "Total params: 542,348\n",
      "Trainable params: 132,140\n",
      "Non-trainable params: 410,208\n",
      "_________________________________________________________________\n"
     ]
    }
   ],
   "source": [
    "model = keras.Sequential()\n",
    "model.add(base_model)\n",
    "model.add(keras.layers.Dense(100, activation='relu'))\n",
    "model.add(keras.layers.Dropout(0.5))\n",
    "model.add(keras.layers.Dense(len(classes), activation='softmax'))\n",
    "# have a look at the trainable and non-trainable params statistic\n",
    "model.summary()"
   ]
  },
  {
   "cell_type": "markdown",
   "metadata": {},
   "source": [
    "### Compile and train!"
   ]
  },
  {
   "cell_type": "code",
   "execution_count": 185,
   "metadata": {},
   "outputs": [],
   "source": [
    "import matplotlib.pyplot as plt\n",
    "import numpy"
   ]
  },
  {
   "cell_type": "code",
   "execution_count": 191,
   "metadata": {
    "scrolled": true
   },
   "outputs": [
    {
     "name": "stdout",
     "output_type": "stream",
     "text": [
      "Epoch 1/50\n",
      "3/3 - 5s - loss: 4.0330 - categorical_accuracy: 0.0387 - val_loss: 3.4307 - val_categorical_accuracy: 0.1278\n",
      "Epoch 2/50\n",
      "3/3 - 1s - loss: 3.3126 - categorical_accuracy: 0.1419 - val_loss: 3.1706 - val_categorical_accuracy: 0.2406\n",
      "Epoch 3/50\n",
      "3/3 - 1s - loss: 2.9681 - categorical_accuracy: 0.2355 - val_loss: 2.8751 - val_categorical_accuracy: 0.3459\n",
      "Epoch 4/50\n",
      "3/3 - 1s - loss: 2.6681 - categorical_accuracy: 0.3677 - val_loss: 2.5640 - val_categorical_accuracy: 0.4962\n",
      "Epoch 5/50\n",
      "3/3 - 1s - loss: 2.4417 - categorical_accuracy: 0.4323 - val_loss: 2.2964 - val_categorical_accuracy: 0.5263\n",
      "Epoch 6/50\n",
      "3/3 - 1s - loss: 2.1201 - categorical_accuracy: 0.5161 - val_loss: 2.0696 - val_categorical_accuracy: 0.6015\n",
      "Epoch 7/50\n",
      "3/3 - 1s - loss: 1.9905 - categorical_accuracy: 0.5000 - val_loss: 1.8442 - val_categorical_accuracy: 0.6391\n",
      "Epoch 8/50\n",
      "3/3 - 1s - loss: 1.6861 - categorical_accuracy: 0.6032 - val_loss: 1.6270 - val_categorical_accuracy: 0.7143\n",
      "Epoch 9/50\n",
      "3/3 - 1s - loss: 1.4696 - categorical_accuracy: 0.6645 - val_loss: 1.4306 - val_categorical_accuracy: 0.7519\n",
      "Epoch 10/50\n",
      "3/3 - 1s - loss: 1.3129 - categorical_accuracy: 0.6806 - val_loss: 1.2623 - val_categorical_accuracy: 0.8195\n",
      "Epoch 11/50\n",
      "3/3 - 1s - loss: 1.2549 - categorical_accuracy: 0.7097 - val_loss: 1.1268 - val_categorical_accuracy: 0.7970\n",
      "Epoch 12/50\n",
      "3/3 - 1s - loss: 1.1125 - categorical_accuracy: 0.7452 - val_loss: 1.0086 - val_categorical_accuracy: 0.8346\n",
      "Epoch 13/50\n",
      "3/3 - 1s - loss: 1.0057 - categorical_accuracy: 0.7452 - val_loss: 0.9095 - val_categorical_accuracy: 0.8346\n",
      "Epoch 14/50\n",
      "3/3 - 1s - loss: 0.9015 - categorical_accuracy: 0.7903 - val_loss: 0.8321 - val_categorical_accuracy: 0.8797\n",
      "Epoch 15/50\n",
      "3/3 - 1s - loss: 0.7795 - categorical_accuracy: 0.8129 - val_loss: 0.7686 - val_categorical_accuracy: 0.8947\n",
      "Epoch 16/50\n",
      "3/3 - 1s - loss: 0.6843 - categorical_accuracy: 0.8742 - val_loss: 0.7034 - val_categorical_accuracy: 0.8947\n",
      "Epoch 17/50\n",
      "3/3 - 1s - loss: 0.6835 - categorical_accuracy: 0.8677 - val_loss: 0.6502 - val_categorical_accuracy: 0.9098\n",
      "Epoch 18/50\n",
      "3/3 - 1s - loss: 0.5864 - categorical_accuracy: 0.8871 - val_loss: 0.6010 - val_categorical_accuracy: 0.9398\n",
      "Epoch 19/50\n",
      "3/3 - 1s - loss: 0.5978 - categorical_accuracy: 0.8710 - val_loss: 0.5540 - val_categorical_accuracy: 0.9398\n",
      "Epoch 20/50\n",
      "3/3 - 1s - loss: 0.5178 - categorical_accuracy: 0.9032 - val_loss: 0.5193 - val_categorical_accuracy: 0.9398\n",
      "Epoch 21/50\n",
      "3/3 - 1s - loss: 0.5736 - categorical_accuracy: 0.8774 - val_loss: 0.4956 - val_categorical_accuracy: 0.9474\n",
      "Epoch 22/50\n",
      "3/3 - 1s - loss: 0.4564 - categorical_accuracy: 0.9194 - val_loss: 0.4749 - val_categorical_accuracy: 0.9549\n",
      "Epoch 23/50\n",
      "3/3 - 1s - loss: 0.4238 - categorical_accuracy: 0.9516 - val_loss: 0.4557 - val_categorical_accuracy: 0.9549\n",
      "Epoch 24/50\n",
      "3/3 - 1s - loss: 0.4154 - categorical_accuracy: 0.9161 - val_loss: 0.4291 - val_categorical_accuracy: 0.9549\n",
      "Epoch 25/50\n",
      "3/3 - 1s - loss: 0.4014 - categorical_accuracy: 0.9355 - val_loss: 0.4058 - val_categorical_accuracy: 0.9624\n",
      "Epoch 26/50\n",
      "3/3 - 1s - loss: 0.4121 - categorical_accuracy: 0.9097 - val_loss: 0.3879 - val_categorical_accuracy: 0.9549\n",
      "Epoch 27/50\n",
      "3/3 - 1s - loss: 0.3731 - categorical_accuracy: 0.9452 - val_loss: 0.3737 - val_categorical_accuracy: 0.9549\n",
      "Epoch 28/50\n",
      "3/3 - 1s - loss: 0.3861 - categorical_accuracy: 0.9161 - val_loss: 0.3626 - val_categorical_accuracy: 0.9699\n",
      "Epoch 29/50\n",
      "3/3 - 1s - loss: 0.3074 - categorical_accuracy: 0.9387 - val_loss: 0.3562 - val_categorical_accuracy: 0.9624\n",
      "Epoch 30/50\n",
      "3/3 - 1s - loss: 0.3025 - categorical_accuracy: 0.9323 - val_loss: 0.3452 - val_categorical_accuracy: 0.9549\n",
      "Epoch 31/50\n",
      "3/3 - 1s - loss: 0.3043 - categorical_accuracy: 0.9323 - val_loss: 0.3319 - val_categorical_accuracy: 0.9474\n",
      "Epoch 32/50\n",
      "3/3 - 1s - loss: 0.2437 - categorical_accuracy: 0.9581 - val_loss: 0.3205 - val_categorical_accuracy: 0.9474\n",
      "Epoch 33/50\n",
      "3/3 - 1s - loss: 0.2471 - categorical_accuracy: 0.9613 - val_loss: 0.3090 - val_categorical_accuracy: 0.9549\n",
      "Epoch 34/50\n",
      "3/3 - 1s - loss: 0.2857 - categorical_accuracy: 0.9581 - val_loss: 0.2956 - val_categorical_accuracy: 0.9624\n",
      "Epoch 35/50\n",
      "3/3 - 1s - loss: 0.2121 - categorical_accuracy: 0.9581 - val_loss: 0.2833 - val_categorical_accuracy: 0.9624\n",
      "Epoch 36/50\n",
      "3/3 - 1s - loss: 0.2405 - categorical_accuracy: 0.9645 - val_loss: 0.2799 - val_categorical_accuracy: 0.9699\n",
      "Epoch 37/50\n",
      "3/3 - 1s - loss: 0.2369 - categorical_accuracy: 0.9581 - val_loss: 0.2798 - val_categorical_accuracy: 0.9699\n",
      "Epoch 38/50\n",
      "3/3 - 1s - loss: 0.2542 - categorical_accuracy: 0.9645 - val_loss: 0.2803 - val_categorical_accuracy: 0.9699\n",
      "Epoch 39/50\n",
      "3/3 - 1s - loss: 0.1960 - categorical_accuracy: 0.9710 - val_loss: 0.2784 - val_categorical_accuracy: 0.9624\n",
      "Epoch 40/50\n",
      "3/3 - 1s - loss: 0.2029 - categorical_accuracy: 0.9710 - val_loss: 0.2747 - val_categorical_accuracy: 0.9624\n",
      "Epoch 41/50\n",
      "3/3 - 1s - loss: 0.1992 - categorical_accuracy: 0.9677 - val_loss: 0.2709 - val_categorical_accuracy: 0.9624\n",
      "Epoch 42/50\n",
      "3/3 - 1s - loss: 0.2102 - categorical_accuracy: 0.9677 - val_loss: 0.2653 - val_categorical_accuracy: 0.9549\n",
      "Epoch 43/50\n",
      "3/3 - 1s - loss: 0.1806 - categorical_accuracy: 0.9806 - val_loss: 0.2584 - val_categorical_accuracy: 0.9549\n",
      "Epoch 44/50\n",
      "3/3 - 1s - loss: 0.1743 - categorical_accuracy: 0.9871 - val_loss: 0.2515 - val_categorical_accuracy: 0.9624\n",
      "Epoch 45/50\n",
      "3/3 - 1s - loss: 0.1845 - categorical_accuracy: 0.9710 - val_loss: 0.2436 - val_categorical_accuracy: 0.9624\n",
      "Epoch 46/50\n",
      "3/3 - 1s - loss: 0.1851 - categorical_accuracy: 0.9548 - val_loss: 0.2320 - val_categorical_accuracy: 0.9699\n",
      "Epoch 47/50\n",
      "3/3 - 1s - loss: 0.1388 - categorical_accuracy: 0.9806 - val_loss: 0.2248 - val_categorical_accuracy: 0.9699\n",
      "Epoch 48/50\n",
      "3/3 - 1s - loss: 0.1818 - categorical_accuracy: 0.9613 - val_loss: 0.2235 - val_categorical_accuracy: 0.9699\n",
      "Epoch 49/50\n",
      "3/3 - 1s - loss: 0.1541 - categorical_accuracy: 0.9774 - val_loss: 0.2239 - val_categorical_accuracy: 0.9624\n",
      "Epoch 50/50\n",
      "3/3 - 1s - loss: 0.1270 - categorical_accuracy: 0.9903 - val_loss: 0.2250 - val_categorical_accuracy: 0.9624\n"
     ]
    }
   ],
   "source": [
    "model.compile(optimizer=keras.optimizers.Adam(learning_rate=0.001),\n",
    "              loss=keras.losses.categorical_crossentropy,\n",
    "              metrics=[keras.metrics.categorical_accuracy])\n",
    "\n",
    "# observe the validation loss and stop when it does not improve after 3 iterations\n",
    "callback = keras.callbacks.EarlyStopping(monitor='val_loss', patience=3)\n",
    "mcp_save = keras.callbacks.ModelCheckpoint('mdl_wts.hdf5', save_best_only=True, monitor='val_categorical_accuracy')\n",
    "\n",
    "\n",
    "history = model.fit(xtrain, ytrain, \n",
    "          epochs=50, \n",
    "          verbose=2,\n",
    "          #batch_size=len(xtrain),\n",
    "          batch_size=110,        \n",
    "          callbacks=[callback, mcp_save],\n",
    "          # use 30% of the data for validation\n",
    "          validation_split=0.3)\n",
    "\n"
   ]
  },
  {
   "cell_type": "code",
   "execution_count": 39,
   "metadata": {},
   "outputs": [
    {
     "data": {
      "image/png": "[encoded data removed]",
      "text/plain": [
       "<Figure size 432x288 with 1 Axes>"
      ]
     },
     "metadata": {
      "needs_background": "light"
     },
     "output_type": "display_data"
    }
   ],
   "source": [
    "plt.plot(history.history['categorical_accuracy'])\n",
    "plt.plot(history.history['val_categorical_accuracy'])\n",
    "plt.title('model accuracy')\n",
    "plt.ylabel('accuracy')\n",
    "plt.xlabel('epoch')\n",
    "plt.legend(['train', 'test'], loc='upper left')\n",
    "plt.show()"
   ]
  },
  {
   "cell_type": "markdown",
   "metadata": {},
   "source": [
    "### Save your model for later"
   ]
  },
  {
   "cell_type": "code",
   "execution_count": 171,
   "metadata": {},
   "outputs": [],
   "source": [
    "test_x = xtrain[-2]"
   ]
  },
  {
   "cell_type": "code",
   "execution_count": 172,
   "metadata": {},
   "outputs": [],
   "source": [
    "test_x = test_x.reshape(1,224,224,3)"
   ]
  },
  {
   "cell_type": "code",
   "execution_count": 173,
   "metadata": {},
   "outputs": [
    {
     "data": {
      "text/plain": [
       "(1, 224, 224, 3)"
      ]
     },
     "execution_count": 173,
     "metadata": {},
     "output_type": "execute_result"
    }
   ],
   "source": [
    "test_x.shape"
   ]
  },
  {
   "cell_type": "code",
   "execution_count": 174,
   "metadata": {},
   "outputs": [],
   "source": [
    "test_y = ytrain[-2]"
   ]
  },
  {
   "cell_type": "code",
   "execution_count": 175,
   "metadata": {},
   "outputs": [
    {
     "data": {
      "text/plain": [
       "32"
      ]
     },
     "execution_count": 175,
     "metadata": {},
     "output_type": "execute_result"
    }
   ],
   "source": [
    "test_y.argmax()"
   ]
  },
  {
   "cell_type": "code",
   "execution_count": 58,
   "metadata": {},
   "outputs": [],
   "source": [
    "result_dict = {}\n",
    "for count,value in enumerate(classes):\n",
    "    result_dict[count] = value"
   ]
  },
  {
   "cell_type": "code",
   "execution_count": 196,
   "metadata": {},
   "outputs": [],
   "source": [
    "model = keras.models.load_model('mdl_wts.hdf5')"
   ]
  },
  {
   "cell_type": "code",
   "execution_count": 197,
   "metadata": {},
   "outputs": [],
   "source": [
    "result = model.predict(test_x)"
   ]
  },
  {
   "cell_type": "code",
   "execution_count": 198,
   "metadata": {},
   "outputs": [],
   "source": [
    "sorted_index_array = np.argsort(result[0]) \n",
    "sorted_array = result[0][sorted_index_array] "
   ]
  },
  {
   "cell_type": "code",
   "execution_count": 199,
   "metadata": {},
   "outputs": [
    {
     "data": {
      "text/plain": [
       "array([[0.   , 0.002, 0.001, 0.   , 0.   , 0.   , 0.001, 0.   , 0.002,\n",
       "        0.   , 0.01 , 0.   , 0.002, 0.03 , 0.   , 0.001, 0.   , 0.   ,\n",
       "        0.001, 0.   , 0.001, 0.012, 0.   , 0.   , 0.001, 0.001, 0.   ,\n",
       "        0.   , 0.   , 0.003, 0.011, 0.004, 0.909, 0.001, 0.001, 0.   ,\n",
       "        0.002, 0.   , 0.   , 0.   ]], dtype=float32)"
      ]
     },
     "execution_count": 199,
     "metadata": {},
     "output_type": "execute_result"
    }
   ],
   "source": [
    "np.round(result,3)"
   ]
  },
  {
   "cell_type": "code",
   "execution_count": 200,
   "metadata": {},
   "outputs": [
    {
     "name": "stdout",
     "output_type": "stream",
     "text": [
      "[21 13 32]\n"
     ]
    }
   ],
   "source": [
    "print(sorted_index_array[-3 :])"
   ]
  },
  {
   "cell_type": "code",
   "execution_count": 201,
   "metadata": {},
   "outputs": [],
   "source": [
    "predictions = [labels[k] for k in sorted_index_array[-3 :]]"
   ]
  },
  {
   "cell_type": "code",
   "execution_count": 202,
   "metadata": {},
   "outputs": [
    {
     "data": {
      "text/plain": [
       "['29. Buxus sempervirens', '21. Fraxinus sp', '39. Schinus terebinthifolius']"
      ]
     },
     "execution_count": 202,
     "metadata": {},
     "output_type": "execute_result"
    }
   ],
   "source": [
    "predictions"
   ]
  },
  {
   "cell_type": "code",
   "execution_count": 167,
   "metadata": {},
   "outputs": [],
   "source": [
    "image = test_x"
   ]
  },
  {
   "cell_type": "code",
   "execution_count": 168,
   "metadata": {},
   "outputs": [
    {
     "ename": "TypeError",
     "evalue": "Invalid shape (1, 224, 224, 3) for image data",
     "output_type": "error",
     "traceback": [
      "\u001b[1;31m---------------------------------------------------------------------------\u001b[0m",
      "\u001b[1;31mTypeError\u001b[0m                                 Traceback (most recent call last)",
      "\u001b[1;32m<ipython-input-168-56ed2357daf6>\u001b[0m in \u001b[0;36m<module>\u001b[1;34m\u001b[0m\n\u001b[0;32m      1\u001b[0m \u001b[0mget_ipython\u001b[0m\u001b[1;33m(\u001b[0m\u001b[1;33m)\u001b[0m\u001b[1;33m.\u001b[0m\u001b[0mrun_line_magic\u001b[0m\u001b[1;33m(\u001b[0m\u001b[1;34m'matplotlib'\u001b[0m\u001b[1;33m,\u001b[0m \u001b[1;34m'inline'\u001b[0m\u001b[1;33m)\u001b[0m\u001b[1;33m\u001b[0m\u001b[1;33m\u001b[0m\u001b[0m\n\u001b[0;32m      2\u001b[0m \u001b[1;32mfrom\u001b[0m \u001b[0mmatplotlib\u001b[0m \u001b[1;32mimport\u001b[0m \u001b[0mpyplot\u001b[0m \u001b[1;32mas\u001b[0m \u001b[0mplt\u001b[0m\u001b[1;33m\u001b[0m\u001b[1;33m\u001b[0m\u001b[0m\n\u001b[1;32m----> 3\u001b[1;33m \u001b[0mplt\u001b[0m\u001b[1;33m.\u001b[0m\u001b[0mimshow\u001b[0m\u001b[1;33m(\u001b[0m\u001b[0mimage\u001b[0m\u001b[1;33m,\u001b[0m \u001b[0minterpolation\u001b[0m\u001b[1;33m=\u001b[0m\u001b[1;34m'nearest'\u001b[0m\u001b[1;33m)\u001b[0m\u001b[1;33m\u001b[0m\u001b[1;33m\u001b[0m\u001b[0m\n\u001b[0m\u001b[0;32m      4\u001b[0m \u001b[0mplt\u001b[0m\u001b[1;33m.\u001b[0m\u001b[0mshow\u001b[0m\u001b[1;33m(\u001b[0m\u001b[1;33m)\u001b[0m\u001b[1;33m\u001b[0m\u001b[1;33m\u001b[0m\u001b[0m\n",
      "\u001b[1;32m~\\anaconda3\\envs\\keras\\lib\\site-packages\\matplotlib\\pyplot.py\u001b[0m in \u001b[0;36mimshow\u001b[1;34m(X, cmap, norm, aspect, interpolation, alpha, vmin, vmax, origin, extent, filternorm, filterrad, resample, url, data, **kwargs)\u001b[0m\n\u001b[0;32m   2722\u001b[0m         \u001b[0mfilternorm\u001b[0m\u001b[1;33m=\u001b[0m\u001b[1;32mTrue\u001b[0m\u001b[1;33m,\u001b[0m \u001b[0mfilterrad\u001b[0m\u001b[1;33m=\u001b[0m\u001b[1;36m4.0\u001b[0m\u001b[1;33m,\u001b[0m \u001b[0mresample\u001b[0m\u001b[1;33m=\u001b[0m\u001b[1;32mNone\u001b[0m\u001b[1;33m,\u001b[0m \u001b[0murl\u001b[0m\u001b[1;33m=\u001b[0m\u001b[1;32mNone\u001b[0m\u001b[1;33m,\u001b[0m\u001b[1;33m\u001b[0m\u001b[1;33m\u001b[0m\u001b[0m\n\u001b[0;32m   2723\u001b[0m         data=None, **kwargs):\n\u001b[1;32m-> 2724\u001b[1;33m     __ret = gca().imshow(\n\u001b[0m\u001b[0;32m   2725\u001b[0m         \u001b[0mX\u001b[0m\u001b[1;33m,\u001b[0m \u001b[0mcmap\u001b[0m\u001b[1;33m=\u001b[0m\u001b[0mcmap\u001b[0m\u001b[1;33m,\u001b[0m \u001b[0mnorm\u001b[0m\u001b[1;33m=\u001b[0m\u001b[0mnorm\u001b[0m\u001b[1;33m,\u001b[0m \u001b[0maspect\u001b[0m\u001b[1;33m=\u001b[0m\u001b[0maspect\u001b[0m\u001b[1;33m,\u001b[0m\u001b[1;33m\u001b[0m\u001b[1;33m\u001b[0m\u001b[0m\n\u001b[0;32m   2726\u001b[0m         \u001b[0minterpolation\u001b[0m\u001b[1;33m=\u001b[0m\u001b[0minterpolation\u001b[0m\u001b[1;33m,\u001b[0m \u001b[0malpha\u001b[0m\u001b[1;33m=\u001b[0m\u001b[0malpha\u001b[0m\u001b[1;33m,\u001b[0m \u001b[0mvmin\u001b[0m\u001b[1;33m=\u001b[0m\u001b[0mvmin\u001b[0m\u001b[1;33m,\u001b[0m\u001b[1;33m\u001b[0m\u001b[1;33m\u001b[0m\u001b[0m\n",
      "\u001b[1;32m~\\anaconda3\\envs\\keras\\lib\\site-packages\\matplotlib\\__init__.py\u001b[0m in \u001b[0;36minner\u001b[1;34m(ax, data, *args, **kwargs)\u001b[0m\n\u001b[0;32m   1436\u001b[0m     \u001b[1;32mdef\u001b[0m \u001b[0minner\u001b[0m\u001b[1;33m(\u001b[0m\u001b[0max\u001b[0m\u001b[1;33m,\u001b[0m \u001b[1;33m*\u001b[0m\u001b[0margs\u001b[0m\u001b[1;33m,\u001b[0m \u001b[0mdata\u001b[0m\u001b[1;33m=\u001b[0m\u001b[1;32mNone\u001b[0m\u001b[1;33m,\u001b[0m \u001b[1;33m**\u001b[0m\u001b[0mkwargs\u001b[0m\u001b[1;33m)\u001b[0m\u001b[1;33m:\u001b[0m\u001b[1;33m\u001b[0m\u001b[1;33m\u001b[0m\u001b[0m\n\u001b[0;32m   1437\u001b[0m         \u001b[1;32mif\u001b[0m \u001b[0mdata\u001b[0m \u001b[1;32mis\u001b[0m \u001b[1;32mNone\u001b[0m\u001b[1;33m:\u001b[0m\u001b[1;33m\u001b[0m\u001b[1;33m\u001b[0m\u001b[0m\n\u001b[1;32m-> 1438\u001b[1;33m             \u001b[1;32mreturn\u001b[0m \u001b[0mfunc\u001b[0m\u001b[1;33m(\u001b[0m\u001b[0max\u001b[0m\u001b[1;33m,\u001b[0m \u001b[1;33m*\u001b[0m\u001b[0mmap\u001b[0m\u001b[1;33m(\u001b[0m\u001b[0msanitize_sequence\u001b[0m\u001b[1;33m,\u001b[0m \u001b[0margs\u001b[0m\u001b[1;33m)\u001b[0m\u001b[1;33m,\u001b[0m \u001b[1;33m**\u001b[0m\u001b[0mkwargs\u001b[0m\u001b[1;33m)\u001b[0m\u001b[1;33m\u001b[0m\u001b[1;33m\u001b[0m\u001b[0m\n\u001b[0m\u001b[0;32m   1439\u001b[0m \u001b[1;33m\u001b[0m\u001b[0m\n\u001b[0;32m   1440\u001b[0m         \u001b[0mbound\u001b[0m \u001b[1;33m=\u001b[0m \u001b[0mnew_sig\u001b[0m\u001b[1;33m.\u001b[0m\u001b[0mbind\u001b[0m\u001b[1;33m(\u001b[0m\u001b[0max\u001b[0m\u001b[1;33m,\u001b[0m \u001b[1;33m*\u001b[0m\u001b[0margs\u001b[0m\u001b[1;33m,\u001b[0m \u001b[1;33m**\u001b[0m\u001b[0mkwargs\u001b[0m\u001b[1;33m)\u001b[0m\u001b[1;33m\u001b[0m\u001b[1;33m\u001b[0m\u001b[0m\n",
      "\u001b[1;32m~\\anaconda3\\envs\\keras\\lib\\site-packages\\matplotlib\\axes\\_axes.py\u001b[0m in \u001b[0;36mimshow\u001b[1;34m(self, X, cmap, norm, aspect, interpolation, alpha, vmin, vmax, origin, extent, filternorm, filterrad, resample, url, **kwargs)\u001b[0m\n\u001b[0;32m   5521\u001b[0m                               resample=resample, **kwargs)\n\u001b[0;32m   5522\u001b[0m \u001b[1;33m\u001b[0m\u001b[0m\n\u001b[1;32m-> 5523\u001b[1;33m         \u001b[0mim\u001b[0m\u001b[1;33m.\u001b[0m\u001b[0mset_data\u001b[0m\u001b[1;33m(\u001b[0m\u001b[0mX\u001b[0m\u001b[1;33m)\u001b[0m\u001b[1;33m\u001b[0m\u001b[1;33m\u001b[0m\u001b[0m\n\u001b[0m\u001b[0;32m   5524\u001b[0m         \u001b[0mim\u001b[0m\u001b[1;33m.\u001b[0m\u001b[0mset_alpha\u001b[0m\u001b[1;33m(\u001b[0m\u001b[0malpha\u001b[0m\u001b[1;33m)\u001b[0m\u001b[1;33m\u001b[0m\u001b[1;33m\u001b[0m\u001b[0m\n\u001b[0;32m   5525\u001b[0m         \u001b[1;32mif\u001b[0m \u001b[0mim\u001b[0m\u001b[1;33m.\u001b[0m\u001b[0mget_clip_path\u001b[0m\u001b[1;33m(\u001b[0m\u001b[1;33m)\u001b[0m \u001b[1;32mis\u001b[0m \u001b[1;32mNone\u001b[0m\u001b[1;33m:\u001b[0m\u001b[1;33m\u001b[0m\u001b[1;33m\u001b[0m\u001b[0m\n",
      "\u001b[1;32m~\\anaconda3\\envs\\keras\\lib\\site-packages\\matplotlib\\image.py\u001b[0m in \u001b[0;36mset_data\u001b[1;34m(self, A)\u001b[0m\n\u001b[0;32m    707\u001b[0m         if not (self._A.ndim == 2\n\u001b[0;32m    708\u001b[0m                 or self._A.ndim == 3 and self._A.shape[-1] in [3, 4]):\n\u001b[1;32m--> 709\u001b[1;33m             raise TypeError(\"Invalid shape {} for image data\"\n\u001b[0m\u001b[0;32m    710\u001b[0m                             .format(self._A.shape))\n\u001b[0;32m    711\u001b[0m \u001b[1;33m\u001b[0m\u001b[0m\n",
      "\u001b[1;31mTypeError\u001b[0m: Invalid shape (1, 224, 224, 3) for image data"
     ]
    },
    {
     "data": {
      "image/png": "[encoded data removed]",
      "text/plain": [
       "<Figure size 432x288 with 1 Axes>"
      ]
     },
     "metadata": {
      "needs_background": "light"
     },
     "output_type": "display_data"
    }
   ],
   "source": [
    "%matplotlib inline \n",
    "from matplotlib import pyplot as plt\n",
    "plt.imshow(image, interpolation='nearest')\n",
    "plt.show()"
   ]
  },
  {
   "cell_type": "code",
   "execution_count": 48,
   "metadata": {},
   "outputs": [],
   "source": [
    "from PIL import Image\n",
    "import numpy as np\n",
    "\n",
    "w, h = 512, 512\n",
    "data = np.zeros((h, w, 3), dtype=np.uint8)\n",
    "data[0:256, 0:256] = [255, 0, 0] # red patch in upper left\n",
    "img = Image.fromarray(data, 'RGB')\n",
    "img.save('my.png')\n",
    "img.show()"
   ]
  },
  {
   "cell_type": "code",
   "execution_count": null,
   "metadata": {},
   "outputs": [],
   "source": [
    "model.save('imageclassifier/models/leaves_model.h5')"
   ]
  },
  {
   "cell_type": "markdown",
   "metadata": {},
   "source": [
    "---\n",
    "## Advanced Optional Step: Fine Tuning\n",
    "\n",
    "This is done after the initial training! Adapt a few of the base layers to the specific learning task by retraining the model. This can improve accuracy, especially if the original learning task of the pre-trained model differs a lot from the actual task.\n",
    "\n",
    "1. Unfreeze some (or all) of the layers in the convolutional base (starting with the base output layer)\n",
    "2. Recompile your model and choose a very low learning rate (`1e-5`)\n",
    "2. Continue training the model but stop early to avoid overfitting"
   ]
  },
  {
   "cell_type": "markdown",
   "metadata": {},
   "source": [
    "## How to continue!\n",
    "\n",
    "- Load the trained model into the `capture.py`\n",
    "- Write a fuction `predict_frame(frame)` that uses the trained model to predict the object in the current frame. It should return a dictionary of class probabilities and names.\n",
    "    - make sure that the input image to the model is of size (224, 224)\n",
    "    - apply the same pre-processing using `preprocess_input` from keras\n",
    "- Modify the script such that it makes a prediction once you press the `p` key\n",
    "- Write the prediction as a log message to the terminal\n",
    "\n",
    "### Advanced\n",
    "\n",
    "- Display the result of the prediction on the current webcam frame\n",
    "- Make an automatic prediction every second (Hint: the `while` loop has a speed of approx. 30 frames per second)"
   ]
  }
 ],
 "metadata": {
  "kernelspec": {
   "display_name": "keras",
   "language": "python",
   "name": "keras"
  },
  "language_info": {
   "codemirror_mode": {
    "name": "ipython",
    "version": 3
   },
   "file_extension": ".py",
   "mimetype": "text/x-python",
   "name": "python",
   "nbconvert_exporter": "python",
   "pygments_lexer": "ipython3",
   "version": "3.8.5"
  }
 },
 "nbformat": 4,
 "nbformat_minor": 4
}
